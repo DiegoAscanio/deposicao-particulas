{
 "cells": [
  {
   "cell_type": "markdown",
   "metadata": {},
   "source": [
    "# Simulações Deposição Balistica - 16 amostras"
   ]
  },
  {
   "cell_type": "code",
   "execution_count": 1,
   "metadata": {},
   "outputs": [
    {
     "name": "stdout",
     "output_type": "stream",
     "text": [
      "Simulacao das amostras 1 a 4\n",
      "0.0%   0.0%   0.0%   5.0%   0.0%   5.0%   5.0%   10.0%   5.0%   10.0%   10.0%   15.0%   10.0%   15.0%   15.0%   20.0%   15.0%   20.0%   20.0%   25.0%   20.0%   25.0%   25.0%   30.0%   25.0%   30.0%   30.0%   35.0%   30.0%   35.0%   35.0%   40.0%   35.0%   40.0%   40.0%   45.0%   40.0%   45.0%   45.0%   50.0%   45.0%   50.0%   50.0%   55.0%   50.0%   55.0%   55.0%   60.0%   55.0%   60.0%   60.0%   65.0%   60.0%   65.0%   65.0%   70.0%   65.0%   70.0%   70.0%   75.0%   70.0%   75.0%   75.0%   80.0%   75.0%   80.0%   80.0%   85.0%   80.0%   85.0%   85.0%   90.0%   90.0%   85.0%   90.0%   95.0%   95.0%   90.0%   95.0%   fim\n",
      "fim\n",
      "95.0%   fim\n",
      "fim\n",
      "Tempo Gasto: 103.51s\n",
      "Simulacao das amostras 5 a 8\n",
      "0.0%   0.0%   0.0%   5.0%   0.0%   5.0%   5.0%   10.0%   5.0%   10.0%   10.0%   15.0%   10.0%   15.0%   15.0%   20.0%   15.0%   20.0%   20.0%   25.0%   20.0%   25.0%   25.0%   30.0%   25.0%   30.0%   30.0%   35.0%   30.0%   35.0%   35.0%   40.0%   35.0%   40.0%   40.0%   45.0%   40.0%   45.0%   45.0%   50.0%   45.0%   50.0%   50.0%   55.0%   50.0%   55.0%   55.0%   60.0%   55.0%   60.0%   60.0%   65.0%   60.0%   65.0%   65.0%   70.0%   65.0%   70.0%   70.0%   75.0%   70.0%   75.0%   75.0%   80.0%   75.0%   80.0%   80.0%   85.0%   85.0%   80.0%   85.0%   90.0%   90.0%   85.0%   90.0%   95.0%   95.0%   90.0%   95.0%   fim\n",
      "fim\n",
      "95.0%   fim\n",
      "fim\n",
      "Tempo Gasto: 110.77s\n",
      "Simulacao das amostras 9 a 12\n",
      "0.0%   0.0%   0.0%   5.0%   0.0%   5.0%   5.0%   10.0%   5.0%   10.0%   10.0%   15.0%   10.0%   15.0%   15.0%   20.0%   15.0%   20.0%   20.0%   25.0%   20.0%   25.0%   25.0%   30.0%   25.0%   30.0%   30.0%   35.0%   30.0%   35.0%   35.0%   40.0%   35.0%   40.0%   40.0%   40.0%   45.0%   45.0%   45.0%   45.0%   50.0%   50.0%   50.0%   50.0%   55.0%   55.0%   55.0%   55.0%   60.0%   60.0%   60.0%   60.0%   65.0%   65.0%   65.0%   65.0%   70.0%   70.0%   70.0%   75.0%   70.0%   75.0%   75.0%   80.0%   80.0%   75.0%   80.0%   85.0%   85.0%   80.0%   85.0%   90.0%   90.0%   85.0%   90.0%   95.0%   95.0%   90.0%   95.0%   fim\n",
      "fim\n",
      "95.0%   fim\n",
      "fim\n",
      "Tempo Gasto: 111.58s\n",
      "Simulacao das amostras 13 a 16\n",
      "0.0%   0.0%   0.0%   5.0%   0.0%   5.0%   5.0%   10.0%   5.0%   10.0%   10.0%   15.0%   10.0%   15.0%   15.0%   20.0%   15.0%   20.0%   20.0%   25.0%   20.0%   25.0%   25.0%   30.0%   25.0%   30.0%   35.0%   30.0%   30.0%   35.0%   35.0%   40.0%   35.0%   40.0%   40.0%   40.0%   45.0%   45.0%   45.0%   45.0%   50.0%   50.0%   50.0%   50.0%   55.0%   55.0%   55.0%   55.0%   60.0%   60.0%   60.0%   60.0%   65.0%   65.0%   65.0%   65.0%   70.0%   70.0%   70.0%   70.0%   75.0%   75.0%   75.0%   75.0%   80.0%   80.0%   80.0%   80.0%   85.0%   85.0%   85.0%   85.0%   90.0%   90.0%   90.0%   90.0%   95.0%   95.0%   95.0%   95.0%   fim\n",
      "fim\n",
      "fim\n",
      "fim\n",
      "Tempo Gasto: 112.25s\n",
      "Simulacao das amostras 17 a 20\n",
      "0.0%   0.0%   0.0%   5.0%   0.0%   5.0%   5.0%   5.0%   10.0%   10.0%   10.0%   10.0%   15.0%   15.0%   15.0%   15.0%   20.0%   20.0%   20.0%   25.0%   20.0%   25.0%   25.0%   30.0%   25.0%   30.0%   30.0%   35.0%   30.0%   35.0%   35.0%   40.0%   35.0%   40.0%   40.0%   45.0%   40.0%   45.0%   45.0%   50.0%   45.0%   50.0%   50.0%   55.0%   50.0%   55.0%   55.0%   60.0%   55.0%   60.0%   60.0%   65.0%   60.0%   65.0%   65.0%   70.0%   65.0%   70.0%   70.0%   75.0%   70.0%   75.0%   75.0%   80.0%   75.0%   80.0%   85.0%   80.0%   80.0%   85.0%   85.0%   90.0%   85.0%   90.0%   95.0%   90.0%   90.0%   95.0%   fim\n",
      "95.0%   95.0%   fim\n",
      "fim\n",
      "fim\n",
      "Tempo Gasto: 113.93s\n",
      "Simulacao das amostras 21 a 24\n",
      "0.0%   0.0%   0.0%   0.0%   5.0%   5.0%   5.0%   5.0%   10.0%   10.0%   10.0%   15.0%   10.0%   15.0%   15.0%   20.0%   15.0%   20.0%   20.0%   25.0%   20.0%   25.0%   25.0%   25.0%   30.0%   30.0%   30.0%   35.0%   30.0%   35.0%   35.0%   40.0%   35.0%   40.0%   40.0%   45.0%   40.0%   45.0%   45.0%   45.0%   50.0%   50.0%   50.0%   50.0%   55.0%   55.0%   55.0%   55.0%   60.0%   60.0%   60.0%   60.0%   65.0%   65.0%   65.0%   65.0%   70.0%   70.0%   70.0%   70.0%   75.0%   75.0%   75.0%   75.0%   80.0%   80.0%   80.0%   80.0%   85.0%   85.0%   85.0%   85.0%   90.0%   90.0%   90.0%   90.0%   95.0%   95.0%   95.0%   95.0%   fim\n",
      "fim\n",
      "fim\n",
      "fim\n",
      "Tempo Gasto: 114.05s\n",
      "Simulacao das amostras 25 a 28\n",
      "0.0%   0.0%   0.0%   0.0%   5.0%   5.0%   5.0%   10.0%   5.0%   10.0%   10.0%   15.0%   10.0%   15.0%   15.0%   20.0%   15.0%   20.0%   20.0%   25.0%   20.0%   25.0%   25.0%   30.0%   25.0%   30.0%   30.0%   35.0%   30.0%   35.0%   35.0%   40.0%   40.0%   35.0%   40.0%   45.0%   45.0%   40.0%   45.0%   50.0%   50.0%   45.0%   50.0%   55.0%   55.0%50.0%      55.0%   60.0%   55.0%   60.0%   60.0%   65.0%   65.0%   60.0%   65.0%   70.0%   70.0%   65.0%   70.0%   75.0%   75.0%   70.0%   75.0%   80.0%   80.0%   75.0%   80.0%   85.0%   85.0%   80.0%   85.0%   90.0%   90.0%   85.0%   90.0%   95.0%   95.0%   90.0%   95.0%   fim\n",
      "fim\n",
      "95.0%   fim\n",
      "fim\n",
      "Tempo Gasto: 114.32s\n",
      "Simulacao das amostras 29 a 32\n",
      "0.0%   0.0%   0.0%   5.0%   0.0%   5.0%   5.0%   10.0%   5.0%   10.0%   10.0%   15.0%   10.0%   15.0%   15.0%   20.0%   15.0%   20.0%   20.0%   25.0%   20.0%   25.0%   25.0%   30.0%   25.0%   30.0%   30.0%   35.0%   30.0%   35.0%   35.0%   40.0%   35.0%   40.0%   40.0%   45.0%   45.0%   40.0%   45.0%   50.0%   50.0%   45.0%   50.0%   55.0%   55.0%   50.0%   55.0%   60.0%   60.0%   55.0%   60.0%   65.0%   65.0%   60.0%   65.0%   70.0%   70.0%   65.0%   70.0%   75.0%   75.0%   70.0%   75.0%   80.0%   80.0%   75.0%   80.0%   85.0%   85.0%   80.0%   85.0%   90.0%   90.0%   85.0%   90.0%   95.0%   95.0%   90.0%   95.0%   fim\n",
      "fim\n",
      "95.0%   fim\n",
      "fim\n",
      "Tempo Gasto: 114.43s\n",
      "Simulacao das amostras 33 a 36\n",
      "0.0%   0.0%   0.0%   5.0%   0.0%   5.0%   5.0%   10.0%   5.0%   10.0%   10.0%   15.0%   10.0%   15.0%   15.0%   20.0%   15.0%   20.0%   20.0%   25.0%   20.0%   25.0%   25.0%   30.0%   25.0%   30.0%   30.0%   35.0%   30.0%   35.0%   35.0%   40.0%   35.0%   40.0%   40.0%   45.0%   40.0%   45.0%   45.0%   50.0%   45.0%   50.0%   50.0%   55.0%   50.0%   55.0%   55.0%   60.0%   55.0%   60.0%   60.0%   65.0%   60.0%   65.0%   65.0%   70.0%   65.0%   70.0%   70.0%   75.0%   70.0%   75.0%   75.0%   80.0%   75.0%   80.0%   80.0%   85.0%   80.0%   85.0%   85.0%   90.0%   85.0%   90.0%   90.0%   95.0%   90.0%   95.0%   95.0%   fim\n",
      "95.0%   fim\n",
      "fim\n",
      "fim\n",
      "Tempo Gasto: 115.05s\n",
      "Simulacao das amostras 37 a 40\n",
      "0.0%   0.0%   0.0%   5.0%   0.0%   5.0%   5.0%   10.0%   5.0%   10.0%   10.0%   15.0%   10.0%   15.0%   15.0%   20.0%   15.0%   20.0%   20.0%   25.0%   20.0%   25.0%   30.0%   25.0%   25.0%   30.0%   35.0%   30.0%   30.0%   35.0%   40.0%   35.0%   35.0%   40.0%   45.0%   40.0%   40.0%   45.0%   50.0%   45.0%   45.0%   50.0%   55.0%   50.0%   50.0%   60.0%55.0%      55.0%   55.0%   65.0%   60.0%   60.0%   60.0%   65.0%   70.0%   65.0%   65.0%   70.0%   70.0%   75.0%   70.0%   75.0%   80.0%   75.0%   75.0%   80.0%   80.0%   85.0%   80.0%   85.0%   85.0%   90.0%   85.0%   90.0%   90.0%   95.0%   90.0%   95.0%   fim\n",
      "95.0%   95.0%   fim\n",
      "fim\n",
      "fim\n",
      "Tempo Gasto: 114.67s\n",
      "Simulacao das amostras 41 a 44\n",
      "0.0%   0.0%   0.0%   5.0%   0.0%   5.0%   5.0%   10.0%   5.0%   10.0%   10.0%   15.0%   10.0%   15.0%   15.0%   20.0%   15.0%   20.0%   20.0%   20.0%   25.0%   25.0%   25.0%   30.0%   25.0%   30.0%   30.0%   30.0%   35.0%   35.0%   35.0%   35.0%   40.0%   40.0%   40.0%   45.0%   40.0%   45.0%   45.0%   50.0%   45.0%   50.0%   50.0%   55.0%   50.0%   55.0%   55.0%   60.0%   55.0%   60.0%   60.0%   60.0%   65.0%   65.0%   65.0%   70.0%   65.0%   70.0%   70.0%   75.0%   70.0%   75.0%   75.0%   80.0%   75.0%   80.0%   80.0%   85.0%   80.0%   85.0%   85.0%   90.0%   85.0%   90.0%   90.0%   95.0%   90.0%   95.0%   95.0%   fim\n",
      "95.0%   fim\n",
      "fim\n",
      "fim\n",
      "Tempo Gasto: 114.64s\n",
      "Simulacao das amostras 45 a 48\n",
      "0.0%   0.0%   0.0%   5.0%   0.0%   5.0%   5.0%   10.0%   5.0%   10.0%   10.0%   15.0%   10.0%   15.0%   15.0%   20.0%   15.0%   20.0%   20.0%   25.0%   20.0%   25.0%   25.0%   30.0%   25.0%   30.0%   30.0%   35.0%   30.0%   35.0%   35.0%   40.0%   35.0%   40.0%   40.0%   45.0%   40.0%   45.0%   45.0%   50.0%   45.0%   50.0%   50.0%   55.0%   50.0%   55.0%   55.0%   60.0%   55.0%   60.0%   60.0%   65.0%   60.0%   65.0%   65.0%   70.0%   65.0%   70.0%   70.0%   75.0%   70.0%   75.0%   75.0%   80.0%   75.0%   80.0%   80.0%   85.0%   80.0%   85.0%   85.0%   90.0%   85.0%   90.0%   90.0%   95.0%   90.0%   95.0%   95.0%   fim\n",
      "95.0%   fim\n",
      "fim\n",
      "fim\n",
      "Tempo Gasto: 110.11s\n",
      "Simulacao das amostras 49 a 52\n",
      "0.0%   0.0%   0.0%   5.0%   0.0%   5.0%   5.0%   10.0%   5.0%   10.0%   10.0%   15.0%   10.0%   15.0%   15.0%   20.0%   15.0%   20.0%   20.0%   25.0%   20.0%   25.0%   25.0%   30.0%   25.0%   30.0%   30.0%   35.0%   30.0%   35.0%   35.0%   40.0%   35.0%   40.0%   40.0%   45.0%   40.0%   45.0%   45.0%   50.0%   45.0%   50.0%   50.0%   55.0%   50.0%   55.0%   55.0%   55.0%   60.0%   60.0%   60.0%   60.0%   65.0%   65.0%   65.0%   65.0%   70.0%   70.0%   70.0%   70.0%   75.0%   75.0%   75.0%   75.0%   80.0%   80.0%   80.0%   80.0%   85.0%   85.0%   85.0%   85.0%   90.0%   90.0%   90.0%   90.0%   95.0%   95.0%   95.0%   95.0%   fim\n",
      "fim\n",
      "fim\n",
      "fim\n",
      "Tempo Gasto: 113.09s\n",
      "Simulacao das amostras 53 a 56\n",
      "0.0%   0.0%   0.0%   5.0%   0.0%   5.0%   5.0%   5.0%   10.0%   10.0%   10.0%   15.0%   10.0%   15.0%   15.0%   15.0%20.0%      20.0%   20.0%   20.0%   25.0%   25.0%   25.0%   25.0%   30.0%   30.0%   30.0%   30.0%   35.0%   35.0%   35.0%   35.0%   40.0%   40.0%   40.0%   40.0%   45.0%   45.0%   45.0%   45.0%   50.0%   50.0%   50.0%   50.0%   55.0%55.0%      55.0%   55.0%   60.0%   60.0%   60.0%   60.0%   65.0%   65.0%   65.0%   65.0%   70.0%   70.0%   70.0%   70.0%   75.0%   75.0%   75.0%   75.0%   80.0%   80.0%   80.0%   80.0%   85.0%   85.0%   85.0%   85.0%   90.0%   90.0%   90.0%   90.0%   95.0%   95.0%   95.0%   95.0%   fim\n",
      "fim\n",
      "fim\n",
      "fim\n",
      "Tempo Gasto: 115.17s\n",
      "Simulacao das amostras 57 a 60\n",
      "0.0%   0.0%   0.0%   5.0%   0.0%   5.0%   5.0%   5.0%10.0%      10.0%   10.0%   10.0%   15.0%   15.0%   15.0%   15.0%   20.0%   20.0%   20.0%   20.0%   25.0%   25.0%   25.0%   25.0%   30.0%   30.0%   30.0%   30.0%   35.0%   35.0%   35.0%   35.0%   40.0%   40.0%   40.0%   40.0%   45.0%   45.0%   45.0%   45.0%   50.0%   50.0%   50.0%   50.0%   55.0%   55.0%   55.0%   55.0%   60.0%   60.0%   60.0%   60.0%   65.0%   65.0%   65.0%   65.0%   70.0%   70.0%   70.0%   70.0%   75.0%   75.0%   75.0%   75.0%   80.0%   80.0%   80.0%   80.0%   85.0%   85.0%   85.0%   85.0%   90.0%   90.0%   90.0%   90.0%   95.0%   95.0%   95.0%   95.0%   fim\n",
      "fim\n",
      "fim\n",
      "fim\n",
      "Tempo Gasto: 115.49s\n",
      "Simulacao das amostras 61 a 64\n",
      "0.0%   0.0%   0.0%   5.0%   0.0%   5.0%   5.0%   5.0%   10.0%   10.0%   10.0%   15.0%   10.0%   15.0%   15.0%   20.0%   15.0%   20.0%   20.0%   20.0%   25.0%   25.0%   25.0%   25.0%   30.0%   30.0%   30.0%   30.0%   35.0%   35.0%   35.0%   35.0%   40.0%   40.0%   40.0%   40.0%   45.0%   45.0%   45.0%   45.0%   50.0%   50.0%   50.0%   50.0%   55.0%   55.0%   55.0%   60.0%   55.0%   60.0%   60.0%   65.0%   60.0%   65.0%   65.0%   70.0%   65.0%   70.0%   70.0%   75.0%   70.0%   75.0%   75.0%   80.0%   75.0%   80.0%   80.0%   85.0%   80.0%   85.0%   85.0%   90.0%   85.0%   90.0%   90.0%   95.0%   90.0%   95.0%   95.0%   fim\n",
      "95.0%   fim\n",
      "fim\n",
      "fim\n",
      "Tempo Gasto: 116.46s\n"
     ]
    }
   ],
   "source": [
    "# importação dos objetos\n",
    "from deposicao import DeposicaoBalistica\n",
    "from rng import RNG_PCG\n",
    "import numpy as np\n",
    "import pdb\n",
    "import time\n",
    "from multiprocessing import Pool\n",
    "\n",
    "def simular(deposicao):\n",
    "    deposicao.simular()\n",
    "    return deposicao\n",
    "\n",
    "instancias_paralelas = 4\n",
    "amostras = 16 * instancias_paralelas\n",
    "tempo_maximo = 5 * 10 ** 4\n",
    "comprimentos_subestratos = [1600]\n",
    "z = (3/2)\n",
    "coeficiente_tempo_maximo = 1\n",
    "\n",
    "dados_medios = {\n",
    "    L:  {\n",
    "        'evolucao_subestratos': np.zeros((max(tempo_maximo, round(coeficiente_tempo_maximo * (L ** z))), L)),\n",
    "        'interfaces': np.zeros(L),\n",
    "        'tempo_maximo': (max(tempo_maximo, round(coeficiente_tempo_maximo * (L ** z)))),\n",
    "        'rugosidades': np.zeros(max(tempo_maximo, round(coeficiente_tempo_maximo * (L ** z))))\n",
    "    }\n",
    "    for L in comprimentos_subestratos\n",
    "}\n",
    "\n",
    "# instanciando geradores de numeros aleatorios\n",
    "rngs = [RNG_PCG() for i in range(instancias_paralelas)]\n",
    "\n",
    "for L in comprimentos_subestratos:\n",
    "    tempo_maximo = dados_medios[L]['tempo_maximo']\n",
    "    \n",
    "    # avancar o estado dos geradores de numeros aleatorios para cada instancia\n",
    "    for i in range(1, instancias_paralelas):\n",
    "        rngs[i].fast_forward(i * tempo_maximo)\n",
    "    \n",
    "    future_steps = 1\n",
    "    for amostra in range(0,amostras,instancias_paralelas):\n",
    "        # instancio instancias_paralelas de objetos de deposicao aleatoria\n",
    "        instancias = []\n",
    "        for i in range(instancias_paralelas):\n",
    "            instancias.append(\n",
    "                DeposicaoBalistica(L, rngs[i], tempo_maximo = tempo_maximo)\n",
    "            )\n",
    "        \n",
    "        begin = time.time()\n",
    "        # simulacao de instancias_paralelas deposicoes\n",
    "        print('Simulacao das amostras {} a {}'.format(amostra + 1, amostra + instancias_paralelas))\n",
    "        #instancias[0].simular()\n",
    "        pool = Pool()\n",
    "        deposicoes = pool.map(simular, instancias)\n",
    "        pool.close()\n",
    "        pool.join()\n",
    "        print('Tempo Gasto: {:.2f}s'.format(time.time() - begin))\n",
    "        \n",
    "        # armazenar resultados\n",
    "        for d in deposicoes:\n",
    "            dados_medios[L]['evolucao_subestratos'] += d.altura_sitios / amostras\n",
    "            dados_medios[L]['interfaces'] += d.altura_interface / amostras\n",
    "            dados_medios[L]['rugosidades'] += d.rugosidade() / amostras\n",
    "        \n",
    "        # avancar geradores de numeros aleatorios\n",
    "        for i in range(instancias_paralelas):\n",
    "            rngs[i].fast_forward((i + future_steps * instancias_paralelas) * tempo_maximo)\n",
    "        future_steps += 1"
   ]
  },
  {
   "cell_type": "markdown",
   "metadata": {
    "jupyter": {
     "source_hidden": true
    }
   },
   "source": [
    "## Gráfico da Média da Evolução do Crescimento de Subestratos - Deposição Balística"
   ]
  },
  {
   "cell_type": "code",
   "execution_count": 2,
   "metadata": {},
   "outputs": [
    {
     "data": {
      "image/png": "[encoded data removed]",
      "text/plain": [
       "<Figure size 432x288 with 1 Axes>"
      ]
     },
     "metadata": {
      "needs_background": "light"
     },
     "output_type": "display_data"
    }
   ],
   "source": [
    "from simulacao_utils import plotar_interface, plotar_rugosidades, plotar_instantaneos\n",
    "\n",
    "comutar_representacao = lambda r: 'wo' if r == 'ko' else 'ko'\n",
    "\n",
    "t_comutacao = 1\n",
    "for L in comprimentos_subestratos:\n",
    "    plotar_instantaneos(\n",
    "        'Evolução Média de {} amostras de substratos de comprimento L = {} de t = 0 até t = {}s\\n'.format(\n",
    "            amostras,\n",
    "            L,\n",
    "            dados_medios[L]['tempo_maximo']\n",
    "        )\n",
    "      + 'Deposição Balística',\n",
    "        dados_medios[L]['interfaces'],\n",
    "        [dados_medios[L]['evolucao_subestratos'][t] for t in range(0, dados_medios[L]['tempo_maximo'], dados_medios[L]['tempo_maximo']//800)],\n",
    "        t_comutacao = t_comutacao,\n",
    "        comutar_representacao = comutar_representacao\n",
    "    )"
   ]
  },
  {
   "cell_type": "markdown",
   "metadata": {},
   "source": [
    "## Média das Rugosidades em Função do Tempo - Deposição Balística"
   ]
  },
  {
   "cell_type": "code",
   "execution_count": 3,
   "metadata": {},
   "outputs": [
    {
     "data": {
      "image/png": "[encoded data removed]",
      "text/plain": [
       "<Figure size 432x288 with 1 Axes>"
      ]
     },
     "metadata": {
      "needs_background": "light"
     },
     "output_type": "display_data"
    }
   ],
   "source": [
    "import importlib\n",
    "import simulacao_utils\n",
    "importlib.reload(simulacao_utils)\n",
    "\n",
    "for L in comprimentos_subestratos:\n",
    "    simulacao_utils.plotar_rugosidades('Média da Rugosidade - Substrato de Comprimento L = {} de t = 0 até {}s\\n'.format(L, dados_medios[L]['tempo_maximo'])\n",
    "                     + 'Deposição Balística',\n",
    "                      [dados_medios[L]['rugosidades']], logscale = True)"
   ]
  },
  {
   "cell_type": "markdown",
   "metadata": {},
   "source": [
    "## Salvar os dados para uso posterior"
   ]
  },
  {
   "cell_type": "code",
   "execution_count": 4,
   "metadata": {},
   "outputs": [],
   "source": [
    "import pickle\n",
    "\n",
    "for L in comprimentos_subestratos:\n",
    "    f = open('simulacoes/DB/L_{}'.format(L), 'wb')\n",
    "    pickle.dump(dados_medios, f)\n",
    "    f.close()"
   ]
  },
  {
   "cell_type": "code",
   "execution_count": null,
   "metadata": {},
   "outputs": [],
   "source": []
  }
 ],
 "metadata": {
  "kernelspec": {
   "display_name": "Python 3",
   "language": "python",
   "name": "python3"
  },
  "language_info": {
   "codemirror_mode": {
    "name": "ipython",
    "version": 3
   },
   "file_extension": ".py",
   "mimetype": "text/x-python",
   "name": "python",
   "nbconvert_exporter": "python",
   "pygments_lexer": "ipython3",
   "version": "3.8.6"
  }
 },
 "nbformat": 4,
 "nbformat_minor": 4
}
