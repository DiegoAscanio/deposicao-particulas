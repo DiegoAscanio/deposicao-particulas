{
 "cells": [
  {
   "cell_type": "markdown",
   "metadata": {},
   "source": [
    "# Simulações Deposição Aleatória Relaxacao Superficial - 20 amostras"
   ]
  },
  {
   "cell_type": "code",
   "execution_count": null,
   "metadata": {},
   "outputs": [
    {
     "name": "stdout",
     "output_type": "stream",
     "text": [
      "Calculando as Seeds do Gerador de Numeros Aleatorios\n",
      "0% das seeds computadas\n",
      "25.0% das seeds computadas\n",
      "50.0% das seeds computadas\n",
      "75.0% das seeds computadas\n",
      "100% das seeds computadas\n",
      "\n",
      "Simulacao das amostras 1 a 4\n",
      "0.0%   0.0%   0.0%   0.0%   5.0%   5.0%   5.0%   5.0%   10.0%   10.0%   10.0%   10.0%   15.0%   15.0%   15.0%   15.0%   20.0%   20.0%   20.0%   20.0%   25.0%   25.0%   25.0%   25.0%   30.0%   30.0%   30.0%   30.0%   35.0%   35.0%   35.0%   35.0%   40.0%   40.0%   40.0%   40.0%   45.0%   45.0%   45.0%   45.0%   50.0%   50.0%   50.0%   50.0%   55.0%   55.0%   55.0%   55.0%   60.0%   60.0%   60.0%   60.0%   65.0%   65.0%   65.0%   65.0%   70.0%   70.0%   70.0%   70.0%   75.0%   75.0%   75.0%   75.0%   80.0%   80.0%   80.0%   80.0%   85.0%   85.0%   85.0%   85.0%   90.0%   90.0%   90.0%   90.0%   95.0%   95.0%   95.0%   95.0%   \n",
      "\n",
      "\n",
      "\n",
      "Simulacao das amostras 5 a 8\n",
      "0.0%   0.0%   0.0%   0.0%   5.0%   5.0%   5.0%   5.0%   10.0%   10.0%   10.0%   10.0%   15.0%   15.0%   15.0%   15.0%   20.0%   20.0%   20.0%   20.0%   25.0%   25.0%   25.0%   25.0%   30.0%   30.0%   30.0%   30.0%   35.0%   35.0%   35.0%   35.0%   40.0%   40.0%   40.0%   40.0%   45.0%   45.0%   45.0%   45.0%   50.0%   50.0%   50.0%   50.0%   55.0%   55.0%   55.0%   55.0%   60.0%   60.0%   60.0%   60.0%   65.0%   65.0%   65.0%   65.0%   70.0%   70.0%   70.0%   70.0%   75.0%   75.0%   75.0%   75.0%   80.0%   80.0%   80.0%   80.0%   85.0%   85.0%   85.0%   85.0%   90.0%   90.0%   90.0%   90.0%   95.0%   95.0%   95.0%   95.0%   \n",
      "\n",
      "\n",
      "\n",
      "Simulacao das amostras 9 a 12\n",
      "0.0%   0.0%   0.0%   0.0%   5.0%   5.0%   5.0%   5.0%   10.0%   10.0%   10.0%   10.0%   15.0%   15.0%   15.0%   15.0%   20.0%   20.0%   20.0%   20.0%   25.0%   25.0%   25.0%   25.0%   30.0%   30.0%30.0%      30.0%   35.0%   35.0%   35.0%   35.0%   40.0%   40.0%   40.0%   40.0%   45.0%   45.0%   45.0%   45.0%   50.0%   50.0%   50.0%   50.0%   55.0%   55.0%   55.0%   55.0%   60.0%   60.0%   60.0%   60.0%   65.0%   65.0%   65.0%   65.0%   70.0%   70.0%   70.0%   70.0%   75.0%   75.0%   75.0%   75.0%   80.0%   80.0%   80.0%   80.0%   85.0%   85.0%   85.0%   85.0%   90.0%   90.0%   90.0%   90.0%   95.0%   95.0%   95.0%   95.0%   \n",
      "\n",
      "\n",
      "\n",
      "Simulacao das amostras 13 a 16\n",
      "0.0%   0.0%   0.0%   0.0%   5.0%   5.0%   5.0%   5.0%   10.0%   10.0%   10.0%   10.0%   15.0%   15.0%   15.0%   15.0%   20.0%   20.0%   20.0%   20.0%   25.0%   25.0%   25.0%   25.0%   30.0%   30.0%   30.0%   30.0%   35.0%   35.0%   35.0%   35.0%   40.0%   40.0%   40.0%   40.0%   45.0%   45.0%   45.0%   45.0%   50.0%   50.0%   50.0%   50.0%   55.0%   55.0%   55.0%   55.0%   60.0%   60.0%   60.0%   60.0%   65.0%   65.0%   65.0%   65.0%   70.0%   70.0%   70.0%   70.0%   75.0%   75.0%   75.0%   75.0%   80.0%   80.0%   80.0%   80.0%   85.0%   85.0%   85.0%   85.0%   90.0%   90.0%   90.0%   90.0%   95.0%   95.0%   95.0%   95.0%   \n",
      "\n",
      "\n",
      "\n",
      "Calculando as Seeds do Gerador de Numeros Aleatorios\n",
      "0% das seeds computadas\n",
      "25.0% das seeds computadas\n",
      "50.0% das seeds computadas\n",
      "75.0% das seeds computadas\n",
      "100% das seeds computadas\n",
      "\n",
      "Simulacao das amostras 1 a 4\n",
      "0.0%   0.0%   0.0%   0.0%   5.0%   5.0%   5.0%   5.0%   10.0%   10.0%   10.0%   10.0%   15.0%   15.0%   15.0%   15.0%   20.0%   20.0%   20.0%   20.0%   25.0%   25.0%   25.0%   25.0%   30.0%   30.0%   30.0%   30.0%   35.0%   35.0%   35.0%   35.0%   40.0%   40.0%   40.0%   40.0%   45.0%   45.0%   45.0%   45.0%   50.0%   50.0%   50.0%   50.0%   55.0%   55.0%   55.0%   55.0%   60.0%   60.0%   60.0%   60.0%   65.0%   65.0%   65.0%   65.0%   70.0%   70.0%   70.0%   70.0%   75.0%   75.0%   75.0%   75.0%   80.0%   80.0%   80.0%   80.0%   85.0%   85.0%   85.0%   85.0%   90.0%   90.0%   90.0%   90.0%   95.0%   95.0%   95.0%   95.0%   \n",
      "\n",
      "\n",
      "\n",
      "Simulacao das amostras 5 a 8\n",
      "0.0%   0.0%   0.0%   0.0%   5.0%   5.0%   5.0%   5.0%   10.0%   10.0%   10.0%   10.0%   15.0%   15.0%   15.0%   15.0%   20.0%   20.0%   20.0%   20.0%   25.0%   25.0%   25.0%   25.0%   30.0%   30.0%   30.0%   30.0%   35.0%   35.0%   35.0%   35.0%   40.0%   40.0%   40.0%   40.0%   45.0%   45.0%   45.0%   45.0%   50.0%   50.0%   50.0%   50.0%   55.0%   55.0%   55.0%   55.0%   60.0%   60.0%   60.0%   60.0%   65.0%   65.0%   65.0%   65.0%   70.0%   70.0%   70.0%   70.0%   75.0%   75.0%   75.0%   75.0%   80.0%   80.0%   80.0%   80.0%   85.0%   85.0%   85.0%   85.0%   90.0%   90.0%   90.0%   90.0%   95.0%   95.0%   95.0%   95.0%   \n",
      "\n",
      "\n",
      "\n"
     ]
    }
   ],
   "source": [
    "# importação dos objetos\n",
    "from deposicao import DeposicaoAleatoriaRelaxacaoSuperficial\n",
    "from rng import RNG\n",
    "import numpy as np\n",
    "from multiprocessing import Pool\n",
    "\n",
    "def calcular_seeds_rng (numero_geradores, L, t_max):\n",
    "    rng = RNG(0)\n",
    "    seeds = [0]\n",
    "    print('0% das seeds computadas')\n",
    "    for i in range(1, numero_geradores):\n",
    "        for j in range(t_max * L):\n",
    "            rng.rng()\n",
    "        seeds.append(rng.xn)\n",
    "        print('{}% das seeds computadas'.format(i * 100 / numero_geradores))\n",
    "    print('100% das seeds computadas\\n')\n",
    "    return seeds\n",
    "\n",
    "def simular(deposicao):\n",
    "    deposicao.simular()\n",
    "    return deposicao\n",
    "\n",
    "instancias_paralelas = 4\n",
    "amostras = 4 * instancias_paralelas\n",
    "tempo_maximo = 10 ** 4\n",
    "comprimentos_subestratos = [100, 200]#, 400]\n",
    "z = 2\n",
    "coeficiente_tempo_maximo = 1.1\n",
    "\n",
    "dados_medios = {\n",
    "    L:  {\n",
    "        'evolucao_subestratos': {\n",
    "            t: np.zeros(L) for t in range(max(tempo_maximo, round(coeficiente_tempo_maximo * (L ** z))))\n",
    "        },\n",
    "        'interfaces': np.zeros(L),\n",
    "        'tempo_maximo': (max(tempo_maximo, round(coeficiente_tempo_maximo * (L ** z)))),\n",
    "        'rugosidades': np.zeros(max(tempo_maximo, round(coeficiente_tempo_maximo * (L ** z))))\n",
    "    }\n",
    "    for L in comprimentos_subestratos\n",
    "}\n",
    "\n",
    "for L in comprimentos_subestratos:\n",
    "    tempo_maximo = dados_medios[L]['tempo_maximo']\n",
    "    # computar sequencia de seeds para manter o estado do gerador de numeros\n",
    "    # aleatorios entre amostras distintas\n",
    "    print('Calculando as Seeds do Gerador de Numeros Aleatorios')\n",
    "    seeds = calcular_seeds_rng(instancias_paralelas, L, tempo_maximo)\n",
    "    \n",
    "    for amostra in range(0,amostras,instancias_paralelas):\n",
    "        # instancio instancias_paralelas de objetos de deposicao aleatoria\n",
    "        instancias = []\n",
    "        for i in range(instancias_paralelas):\n",
    "            instancias.append(\n",
    "                DeposicaoAleatoriaRelaxacaoSuperficial(L, RNG(seeds[i]), tempo_maximo = tempo_maximo)\n",
    "            )\n",
    "            \n",
    "        # simulacao de instancias_paralelas deposicoes\n",
    "        print('Simulacao das amostras {} a {}'.format(amostra + 1, amostra + instancias_paralelas))\n",
    "        pool = Pool()\n",
    "        deposicoes = pool.map(simular, instancias)\n",
    "        pool.close()\n",
    "        \n",
    "        # armazenar resultados\n",
    "        for deposicao in deposicoes:\n",
    "            for t in range(deposicao.tempo_maximo):\n",
    "                dados_medios[L]['evolucao_subestratos'][t] += np.array([deposicao.altura_sitio(i, t) for i in range(L)]) / amostras\n",
    "            dados_medios[L]['interfaces'] += np.array([deposicao.altura_sitio(i) for i in range(L)]) / amostras\n",
    "            dados_medios[L]['rugosidades'] += np.array(deposicao.rugosidade()) / amostras\n",
    "        \n",
    "        # atualizar seeds\n",
    "        seeds = [d.rng.xn for d in deposicoes]"
   ]
  },
  {
   "cell_type": "markdown",
   "metadata": {},
   "source": [
    "## Gráfico da Média da Evolução do Crescimento de Subestratos - Deposição Aleatória com Relaxação Superficial"
   ]
  },
  {
   "cell_type": "code",
   "execution_count": 1,
   "metadata": {},
   "outputs": [
    {
     "ename": "NameError",
     "evalue": "name 'comprimentos_subestratos' is not defined",
     "output_type": "error",
     "traceback": [
      "\u001b[0;31m---------------------------------------------------------------------------\u001b[0m",
      "\u001b[0;31mNameError\u001b[0m                                 Traceback (most recent call last)",
      "\u001b[0;32m<ipython-input-1-c4db811aa2e3>\u001b[0m in \u001b[0;36m<module>\u001b[0;34m\u001b[0m\n\u001b[1;32m      2\u001b[0m \u001b[0;34m\u001b[0m\u001b[0m\n\u001b[1;32m      3\u001b[0m \u001b[0mt_comutacao\u001b[0m \u001b[0;34m=\u001b[0m \u001b[0;36m25\u001b[0m\u001b[0;34m\u001b[0m\u001b[0;34m\u001b[0m\u001b[0m\n\u001b[0;32m----> 4\u001b[0;31m \u001b[0;32mfor\u001b[0m \u001b[0mL\u001b[0m \u001b[0;32min\u001b[0m \u001b[0mcomprimentos_subestratos\u001b[0m\u001b[0;34m:\u001b[0m\u001b[0;34m\u001b[0m\u001b[0;34m\u001b[0m\u001b[0m\n\u001b[0m\u001b[1;32m      5\u001b[0m     plotar_instantaneos(\n\u001b[1;32m      6\u001b[0m         'Evolução Média de {} amostras de substratos de comprimento L = {} de t = 0 até t = {}s\\n'.format(\n",
      "\u001b[0;31mNameError\u001b[0m: name 'comprimentos_subestratos' is not defined"
     ]
    }
   ],
   "source": [
    "from simulacao_utils import plotar_interface, plotar_rugosidades, plotar_instantaneos\n",
    "\n",
    "t_comutacao = 25\n",
    "for L in comprimentos_subestratos:\n",
    "    plotar_instantaneos(\n",
    "        'Evolução Média de {} amostras de substratos de comprimento L = {} de t = 0 até t = {}s\\n'.format(\n",
    "            amostras,\n",
    "            L,\n",
    "            dados_medios[L]['tempo_maximo']\n",
    "        )\n",
    "      + 'Deposição Aleatória com Relaxação Superficical',\n",
    "        dados_medios[L]['interfaces'],\n",
    "        [dados_medios[L]['evolucao_subestratos'][t] for t in range(dados_medios[L]['tempo_maximo'])],\n",
    "        t_comutacao = t_comutacao\n",
    "    )"
   ]
  },
  {
   "cell_type": "markdown",
   "metadata": {},
   "source": [
    "## Média das Rugosidades em Função do Tempo - Deposição Aleatória com Relaxação Superficial"
   ]
  },
  {
   "cell_type": "code",
   "execution_count": null,
   "metadata": {},
   "outputs": [],
   "source": [
    "for L in comprimentos_subestratos:\n",
    "    plotar_rugosidades('Média da Rugosidade - Substrato de Comprimento L = {} de t = 0 até {}s\\n'.format(L, dados_medios[L]['tempo_maximo'])\n",
    "                     + 'Deposição Aleatória com Relaxação Superficial',\n",
    "                      [dados_medios[L]['rugosidades']])"
   ]
  },
  {
   "cell_type": "markdown",
   "metadata": {},
   "source": [
    "## Salvar os dados para uso posterior"
   ]
  },
  {
   "cell_type": "code",
   "execution_count": null,
   "metadata": {},
   "outputs": [],
   "source": [
    "import pickle\n",
    "\n",
    "for L in comprimentos_subestratos:\n",
    "    f = open('simulacoes/DARS/L_{}'.format(L), 'wb')\n",
    "    pickle.dump(dados_medios, f)\n",
    "    f.close()"
   ]
  }
 ],
 "metadata": {
  "kernelspec": {
   "display_name": "Python 3",
   "language": "python",
   "name": "python3"
  },
  "language_info": {
   "codemirror_mode": {
    "name": "ipython",
    "version": 3
   },
   "file_extension": ".py",
   "mimetype": "text/x-python",
   "name": "python",
   "nbconvert_exporter": "python",
   "pygments_lexer": "ipython3",
   "version": "3.7.3"
  }
 },
 "nbformat": 4,
 "nbformat_minor": 4
}
