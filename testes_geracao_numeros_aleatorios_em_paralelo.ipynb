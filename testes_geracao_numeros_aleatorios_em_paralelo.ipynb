{
 "cells": [
  {
   "cell_type": "markdown",
   "metadata": {},
   "source": [
    "# Testar Distribuição Uniforme de Numeros Aleatorios Gerados em Paralelo\n",
    "\n",
    "A principal dificuldade que eu tive ao realizar este trabalho foi que eu busquei otimizar o tempo de execução das simulações,\n",
    "explorando tecnicas de paralelismo à partir de recursos ociosos de processamento dos computadores onde ela foi executada, pois,\n",
    "a primeira versão das simulações não estava paralelizada e por isso, executava mais lenta (4x) do que uma potencial versão paralelizada.\n",
    "\n",
    "Assim fui em busca de paralelizar este código. Consegui paralelizar a execução, mas, me deparei com um outro desafio: o de garantir a sincronia entre os geradores de números pseudo aleatórios utilizados para simular o fenômeno de deposição de partículas, pois, se tal sincronia não for garantida, pode haver sobreposição de gerações de amostras (repetições de valores - overlaps) o que de fato ocorreu.\n",
    "\n",
    "Assim, busquei alternativas para contornar este problema e estudando o algoritmo de geração cngruencial de números pseudo aleatórios proposto pelo trabalho, o URAND, verifiquei que ele por se tratar de uma recorrência e utilizando os recursos da linguagem python que teoricamente permitem o armazenamento de números inteiros extremamente grandes, até o limite de memória disponível no computador, resolvi a recorrência que o representa e encontrei uma equação que poderia ser utilizada para prever qual número seria gerado a partir de $t$ instantes de tempos.\n",
    "\n",
    "A recorrência do gerador URAND é:\n",
    "\n",
    "$$\n",
    "    R(t) = A * R(t - 1) + B\n",
    "$$\n",
    "\n",
    "Onde $A = 843314861$ e $B = 453816693$\n",
    "\n",
    "Essa recorrência em sua forma fechada é dada por:\n",
    "\n",
    "$$\n",
    "R(t) = R(0) {A}^{t} + \\frac{{B}({A}^{t} - 1)}{A - 1}\n",
    "$$\n",
    "\n",
    "E ela apresenta de fato o valor de R gerado em qualquer instante de tempo $t$, mas, com um custo exponencial, como apontado nesta forma fechada. Então, é mais dispendioso prever o valor gerado no tempo $t$ (custo exponencial) do que executar o gerador de números aleatórios $t$ instantes para descobrir o valor buscado.\n",
    "\n",
    "Infelizmente não me atinei para este fato inicialmente, então em muitas simulações executei esta forma fechada ineficiente para prever os valores do gerador de numero aleatorios em um instante de tempo $t$ e garantir sincronia entre amostras, mas, como deduzido, é mais custoso computecionalmente prever estes números do que executar o gerador $t$ vezes. Assim, na forma que eu desenvolvi, a paralelização não traria benefícios, pelo contrário, induziria custos exponenciais na simulação para prever os valores a serem gerados.\n",
    "\n",
    "Por isso, desesti inicialmente de fazer a abordagem paralela, mas, ao estudar a documentação da biblioteca numpy na manhã de sábado 05/12/2020, verifiquei que a biblioteca possui suporte nativo para geração uniformemente distribuída de números aleatórios em paralelo, à partir de um gerador congruencial **PCG64** e que também permite avançar o gerador em $t$ passos de execução em custo $ O(1) $ o que atende os requisitos de sincronia para evitar a sobreposição (repetição de valores gerados) da simulação.\n",
    "\n",
    "Além do que o gerador **PCG64** apresenta custo logarítimico para gerar n números aleatórios, em comparação ao custo linear do gerador URAND convencional.\n",
    "\n",
    "Assim este teste visa:\n",
    "\n",
    "1. Comprovar a eficiência de custo computacional do gerador **PCG64** em comparação ao URAND\n",
    "2. Verificar a uniformidade da distribuição gerada pelo **PCG64**, também pelo **URAND** e comparar a uniformidade das duas distribuições, para atestar que o **PCG64** pode ser utilizado para simular as deposições\n",
    "3. Verificar que não ocorre sobreposição de valores gerados quando n geradores são avançados em $ t $ múltiplos instantes de tempo, para gerarem numeros aleatórios em paralelo."
   ]
  },
  {
   "cell_type": "markdown",
   "metadata": {},
   "source": [
    "## 1. Teste de eficiência do custo computacional do gerador PCG64 em comparação ao URAND"
   ]
  },
  {
   "cell_type": "code",
   "execution_count": 11,
   "metadata": {},
   "outputs": [
    {
     "name": "stdout",
     "output_type": "stream",
     "text": [
      "4.09 s ± 140 ms per loop (mean ± std. dev. of 7 runs, 1 loop each)\n",
      "3.94 ms ± 58.1 µs per loop (mean ± std. dev. of 7 runs, 100 loops each)\n",
      "Tempo de Execução Gerador URAND - Geração de 1000000 números: 4.088458s\n",
      "Tempo de Execução Gerador PCG64 - Geração de 1000000 números: 0.003939s\n",
      "O gerador PCG64 é ~ 1038.0 vezes mais rápido que o URAND para gerar 1000000 números\n"
     ]
    }
   ],
   "source": [
    "from rng import RNG_PCG, RNG_URAND\n",
    "import numpy as np\n",
    "\n",
    "rng_urand = RNG_URAND(0)\n",
    "rng_pcg = RNG_PCG(0)\n",
    "\n",
    "n = 10**6\n",
    "tempo_urand = %timeit -o gerados_urand = [rng_urand.rng() for i in range(n)];\n",
    "tempo_pcg = %timeit -o gerados_pcg = rng_pcg.rng(numbers = n);\n",
    "print('Tempo de Execução Gerador URAND - Geração de {} números: {:6f}s'.format(n, tempo_urand.average))\n",
    "print('Tempo de Execução Gerador PCG64 - Geração de {} números: {:6f}s'.format(n, tempo_pcg.average))\n",
    "print('O gerador PCG64 é ~ {} vezes mais rápido que o URAND para gerar {} números'.format(np.round(tempo_urand.average / tempo_pcg.average), n))"
   ]
  },
  {
   "cell_type": "markdown",
   "metadata": {},
   "source": [
    "## 2.1 Verificação de uniformidade do gerador congruencial PCG64"
   ]
  },
  {
   "cell_type": "code",
   "execution_count": 9,
   "metadata": {},
   "outputs": [
    {
     "data": {
      "image/png": "[encoded data removed]",
      "text/plain": [
       "<Figure size 360x360 with 1 Axes>"
      ]
     },
     "metadata": {
      "needs_background": "light"
     },
     "output_type": "display_data"
    }
   ],
   "source": [
    "%matplotlib inline\n",
    "from matplotlib import pyplot\n",
    "import seaborn as sns\n",
    "\n",
    "gerados_pcg = rng_pcg.rng(high = 2**31, low = -2**31, numbers = n)\n",
    "sns.displot(gerados_pcg)\n",
    "pyplot.title('PCG64');\n"
   ]
  },
  {
   "cell_type": "markdown",
   "metadata": {},
   "source": [
    "## 2.2 Verificação de uniformidade do gerador congruencial URAND"
   ]
  },
  {
   "cell_type": "code",
   "execution_count": 10,
   "metadata": {},
   "outputs": [
    {
     "data": {
      "image/png": "[encoded data removed]",
      "text/plain": [
       "<Figure size 360x360 with 1 Axes>"
      ]
     },
     "metadata": {
      "needs_background": "light"
     },
     "output_type": "display_data"
    }
   ],
   "source": [
    "%matplotlib inline\n",
    "\n",
    "gerados_urand = [rng_urand.rng() for i in range(n)]\n",
    "sns.displot(gerados_urand)\n",
    "pyplot.title('URAND');"
   ]
  },
  {
   "cell_type": "markdown",
   "metadata": {},
   "source": [
    "Comparando as distribuições de 1 milhão de números inteiros de 32 bits geradas pelo URAND e pelo PCG64, identificamos que PCG64 é tão uniforme quanto URAND, o que torna o gerador congruencial PCG64 apto para a simulação dos fenômenos de deposição"
   ]
  },
  {
   "cell_type": "markdown",
   "metadata": {},
   "source": [
    "## 3. Verificação da não ocorrência de sobreposição para valores gerados em paralelo"
   ]
  },
  {
   "cell_type": "code",
   "execution_count": 15,
   "metadata": {},
   "outputs": [
    {
     "data": {
      "text/plain": [
       "<seaborn.axisgrid.FacetGrid at 0x7f88c1b8fa00>"
      ]
     },
     "execution_count": 15,
     "metadata": {},
     "output_type": "execute_result"
    },
    {
     "data": {
      "image/png": "[encoded data removed]",
      "text/plain": [
       "<Figure size 360x360 with 1 Axes>"
      ]
     },
     "metadata": {
      "needs_background": "light"
     },
     "output_type": "display_data"
    }
   ],
   "source": [
    "%matplotlib inline\n",
    "\n",
    "import seaborn as sns\n",
    "from multiprocessing import Pool\n",
    "from numpy.random import default_rng, PCG64\n",
    "\n",
    "n = 10**6\n",
    "cores = 4\n",
    "\n",
    "def rng_paralelo(rng):\n",
    "    return rng.integers(-2**31, 2**31, n)\n",
    "\n",
    "# instancio os geradores base\n",
    "geradores = [PCG64(0) for c in range(cores)]\n",
    "# avanco o estado dos geradores em c * n de numeros gerados\n",
    "for c in range(cores):\n",
    "    geradores[c].advance(c * n)\n",
    "rngs = [default_rng(g) for g in geradores]\n",
    "\n",
    "# simulo em paralelo\n",
    "pool = Pool()\n",
    "numeros_gerados = pool.map(rng_paralelo, rngs)\n",
    "pool.close()\n",
    "\n",
    "# ploto a distribuição dos numeros gerados\n",
    "# ocorrerá overlap se existir desbalanceamento entre\n",
    "# os numeros sorteados, se alguns forem muito mais\n",
    "# sorteados do que outros.\n",
    "# Caso todos apresentem alturas médias parecidas\n",
    "# A geração de numeros aleatorios foi bem sucedidade\n",
    "# e manteve o requisito da uniformidade respeitado,\n",
    "# necessário para simular adequadamente o fenômeno\n",
    "# da deposição de partículas\n",
    "sns.displot(np.concatenate(numeros_gerados))"
   ]
  },
  {
   "cell_type": "markdown",
   "metadata": {},
   "source": [
    "Como verificado, não ocorreu overlap, o que permite que utilizemos o gerador PCG64, adequadamente uniforme e muito eficiente para simular as deposições!"
   ]
  }
 ],
 "metadata": {
  "kernelspec": {
   "display_name": "Python 3",
   "language": "python",
   "name": "python3"
  },
  "language_info": {
   "codemirror_mode": {
    "name": "ipython",
    "version": 3
   },
   "file_extension": ".py",
   "mimetype": "text/x-python",
   "name": "python",
   "nbconvert_exporter": "python",
   "pygments_lexer": "ipython3",
   "version": "3.9.1"
  }
 },
 "nbformat": 4,
 "nbformat_minor": 4
}
